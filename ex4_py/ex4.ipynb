{
 "cells": [
  {
   "cell_type": "code",
   "execution_count": 183,
   "metadata": {},
   "outputs": [],
   "source": [
    "import tensorflow as tf\n",
    "import numpy as np\n",
    "import matplotlib.pyplot as plt\n",
    "import scipy.optimize as op\n",
    "import scipy.io"
   ]
  },
  {
   "cell_type": "code",
   "execution_count": 184,
   "metadata": {},
   "outputs": [],
   "source": [
    "def sigmoid(z):\n",
    "    result = 1.0 / (1.0 + np.exp(-z))\n",
    "    \n",
    "    return result"
   ]
  },
  {
   "cell_type": "code",
   "execution_count": 185,
   "metadata": {},
   "outputs": [],
   "source": [
    "def sigmoidGradient(z):\n",
    "    result = np.multiply(sigmoid(z), (1-sigmoid(z)))\n",
    "    \n",
    "    return result"
   ]
  },
  {
   "cell_type": "code",
   "execution_count": 186,
   "metadata": {},
   "outputs": [],
   "source": [
    "def debugInitializeWeights(fan_out, fan_in):\n",
    "    W = np.zeros((fan_out, fan_in+1))\n",
    "\n",
    "    \n",
    "    for i in range(fan_out):\n",
    "        for j in range(fan_in+1):\n",
    "            W[i][j] = np.sin(j*fan_out + i + 1) / 10\n",
    "    \n",
    "    \n",
    "    return W"
   ]
  },
  {
   "cell_type": "code",
   "execution_count": 187,
   "metadata": {},
   "outputs": [],
   "source": [
    "def computeNumericalGradient(theta, input_layer_size, hidden_layer_size, num_labels, X, y, lambda_t):\n",
    "    \n",
    "    m = theta.shape[0]\n",
    "    numgrad = np.zeros(m)\n",
    "    perturb = np.zeros(m)\n",
    "    \n",
    "    e = 1e-4\n",
    "    \n",
    "    \n",
    "    for i in range(m):\n",
    "        perturb[i] = e\n",
    "        \n",
    "        loss1 = computeCost(theta - perturb, input_layer_size, hidden_layer_size, num_labels, X, y, lambda_t)\n",
    "        loss2 = computeCost(theta + perturb, input_layer_size, hidden_layer_size, num_labels, X, y, lambda_t)\n",
    "\n",
    "        numgrad[i] = (loss2 - loss1) / (2*e)\n",
    "        perturb[i] = 0        \n",
    "    \n",
    "    return numgrad"
   ]
  },
  {
   "cell_type": "code",
   "execution_count": 188,
   "metadata": {},
   "outputs": [],
   "source": [
    "def checkNNGradients(lambda_t):\n",
    "    input_layer_size = 3\n",
    "    hidden_layer_size = 5\n",
    "    num_labels = 3\n",
    "    m = 5\n",
    "    \n",
    "    Theta1 = debugInitializeWeights(hidden_layer_size, input_layer_size)\n",
    "    Theta2 = debugInitializeWeights(num_labels, hidden_layer_size)        \n",
    "    \n",
    "    X  = debugInitializeWeights(m, input_layer_size - 1)\n",
    "    y = np.zeros((m, 1))\n",
    "    for i in range(m):\n",
    "        y[i][0] = 1 + (i+1) % num_labels\n",
    "    y = y.astype(int)\n",
    "    \n",
    "    nn_params = np.concatenate((Theta1.flatten('F'), Theta2.flatten('F')))\n",
    "    grad = computeGradient(nn_params, input_layer_size, hidden_layer_size, num_labels, X, y, lambda_t)\n",
    "    \n",
    "    numgrad = computeNumericalGradient(nn_params, input_layer_size, hidden_layer_size, num_labels, X, y, lambda_t)\n",
    "\n",
    "    print(numgrad)\n",
    "    print(grad)\n",
    "    \n",
    "    print(\"The above two columns you get should be very similar.\")\n",
    "    print(\"(Left-Your Numerical Gradient, Right-Analytical Gradient)\")\n",
    "    \n",
    "    diff = np.linalg.norm(numgrad-grad)/np.linalg.norm(numgrad+grad)\n",
    "    \n",
    "    print('If your backpropagation implementation is correct, then',\n",
    "          'the relative difference will be small (less than 1e-9). \\n', \n",
    "          'Relative Difference: \\n', diff)"
   ]
  },
  {
   "cell_type": "code",
   "execution_count": 189,
   "metadata": {},
   "outputs": [],
   "source": [
    "def computeCost(nn_params, input_layer_size, hidden_layer_size, num_labels, X, y, lambda_t):\n",
    "\n",
    "    Theta1_flat = nn_params[ : hidden_layer_size * (input_layer_size + 1)]\n",
    "    Theta2_flat = nn_params[hidden_layer_size * (input_layer_size + 1) : ]\n",
    "    \n",
    "    Theta1 = np.reshape(Theta1_flat, (hidden_layer_size, input_layer_size+1), 'F')\n",
    "    Theta2 = np.reshape(Theta2_flat, (num_labels, hidden_layer_size+1), 'F')\n",
    "    \n",
    "    m = X.shape[0]\n",
    "\n",
    "    a1 = np.c_[np.ones([m, 1]), X]    # Add a column of ones to x\n",
    "    z2 = np.dot(a1, Theta1.T)    # 5000*25;\n",
    "\n",
    "    a2 = sigmoid(z2)    # 5000*25;\n",
    "    a2 = np.c_[np.ones([m, 1]), a2]     # 5000*26;\n",
    "\n",
    "    z3 = np.dot(a2, Theta2.T)    # 5000*10;\n",
    "    a3 = sigmoid(z3)    # 5000*10;           \n",
    "\n",
    "    y_matrix = np.zeros([m, num_labels]); # 5000*10;              \n",
    "\n",
    "    for i in range(m):\n",
    "        if y[i][0]==0:\n",
    "            y_matrix[i][9] = 1\n",
    "        else:\n",
    "            y_matrix[i][y[i][0]-1] = 1     \n",
    "\n",
    "\n",
    "    sum_t = 0\n",
    "    for i in range(m):\n",
    "        for j in range(num_labels):\n",
    "            sum_t = sum_t - y_matrix[i][j] * np.log(a3[i][j]) - (1-y_matrix[i][j]) * np.log(1-a3[i][j])\n",
    "\n",
    "    J = sum_t / m\n",
    "\n",
    "    sum_left = 0\n",
    "    for i in range(Theta1.shape[0]):\n",
    "        for j in range(1, Theta1.shape[1]):\n",
    "            sum_left = sum_left + Theta1[i][j]**2\n",
    "\n",
    "    sum_right = 0\n",
    "    for i in range(Theta2.shape[0]):\n",
    "        for j in range(1, Theta2.shape[1]):\n",
    "            sum_right = sum_right + Theta2[i][j]**2\n",
    "\n",
    "    J = J + (lambda_t/(2*m))*(sum_left + sum_right);\n",
    "    \n",
    "    return J"
   ]
  },
  {
   "cell_type": "code",
   "execution_count": 190,
   "metadata": {},
   "outputs": [],
   "source": [
    "def computeGradient(nn_params, input_layer_size, hidden_layer_size, num_labels, X, y, lambda_t):\n",
    "\n",
    "    Theta1_flat = nn_params[ : hidden_layer_size * (input_layer_size + 1)]\n",
    "    Theta2_flat = nn_params[hidden_layer_size * (input_layer_size + 1) : ]\n",
    "    \n",
    "    Theta1 = np.reshape(Theta1_flat, (hidden_layer_size, input_layer_size+1), 'F') # 25*401;\n",
    "    Theta2 = np.reshape(Theta2_flat, (num_labels, hidden_layer_size+1), 'F') # 10*26;\n",
    "    \n",
    "    # nnCostFunction\n",
    "    Theta1_grad = np.zeros(Theta1.shape) # 25*401;\n",
    "    Theta2_grad = np.zeros(Theta2.shape) # 10*26;\n",
    "\n",
    "    m = X.shape[0]\n",
    "    \n",
    "    a1 = np.c_[np.ones([m, 1]), X]    # Add a column of ones to x\n",
    "    z2 = np.dot(a1, Theta1.T)    # 5000*25;\n",
    "\n",
    "    a2 = sigmoid(z2)    # 5000*25;\n",
    "    a2 = np.c_[np.ones([m, 1]), a2]     # 5000*26;\n",
    "\n",
    "    z3 = np.dot(a2, Theta2.T)    # 5000*10;\n",
    "    a3 = sigmoid(z3)    # 5000*10;           \n",
    "\n",
    "    y_matrix = np.zeros([m, num_labels]); # 5000*10;              \n",
    "\n",
    "    for i in range(m):\n",
    "        if y[i][0]==0:\n",
    "            y_matrix[i][9] = 1\n",
    "        else:\n",
    "            y_matrix[i][y[i][0]-1] = 1     \n",
    "\n",
    "    \n",
    "    ##-----------------------calculate Theta1_grad and Theta2_grad---------------------------\n",
    "    for i in range(m):\n",
    "        delta3 = a3[i] - y_matrix[i]\n",
    "        delta3 = np.reshape(delta3, (1, -1)) # 1*10;\n",
    "        \n",
    "        term1 = np.dot(delta3, Theta2)\n",
    "        term1 = (term1.T)[1:]\n",
    "        term1 = np.reshape(term1, (1, -1))\n",
    "        \n",
    "        term2 = sigmoidGradient(z2[i])\n",
    "        term2 = np.reshape(term2, (1, -1))\n",
    "        \n",
    "        delta2 = np.multiply(term1, term2) # 1*25;\n",
    "\n",
    "        Theta1_grad = Theta1_grad + np.dot(delta2.T, np.reshape(a1[i], (1, -1)))    # 25*401;\n",
    "        Theta2_grad = Theta2_grad + np.dot(delta3.T, np.reshape(a2[i], (1, -1)))    # 10*26;    \n",
    "\n",
    "    Theta1_grad = Theta1_grad / m\n",
    "    Theta2_grad = Theta2_grad / m\n",
    "    \n",
    "    Theta1_grad[:, 1:] += (lambda_t/m) * Theta1[:, 1:]\n",
    "    Theta2_grad[:, 1:] += (lambda_t/m) * Theta2[:, 1:]\n",
    "    \n",
    "    \n",
    "    grad = np.concatenate((Theta1_grad.flatten('F'), Theta2_grad.flatten('F')))\n",
    "    \n",
    "    return grad"
   ]
  },
  {
   "cell_type": "code",
   "execution_count": 191,
   "metadata": {},
   "outputs": [],
   "source": [
    "def randInitializeWeights(L_in, L_out):\n",
    "    epsilon_init = 0.12\n",
    "    W = np.random.rand(L_out, 1 + L_in) * 2 * epsilon_init - epsilon_init\n",
    "    \n",
    "    return W"
   ]
  },
  {
   "cell_type": "code",
   "execution_count": 192,
   "metadata": {},
   "outputs": [
    {
     "name": "stdout",
     "output_type": "stream",
     "text": [
      "(5000, 400)\n",
      "(5000, 1)\n",
      "(25, 401)\n",
      "(10, 26)\n"
     ]
    }
   ],
   "source": [
    "input_layer_size  = 400    # 20x20 Input Images of Digits\n",
    "hidden_layer_size = 25    # 25 hidden units\n",
    "num_labels = 10          # 10 labels, from 1 to 10   \n",
    "                          # (note that we have mapped \"0\" to label 10)\n",
    "\n",
    "## =========== Part 1: Loading and Visualizing Data =============\n",
    "data = scipy.io.loadmat('ex4data1.mat')\n",
    "X = data['X']\n",
    "y = data['y']\n",
    "\n",
    "y = np.reshape(y, (-1, 1))\n",
    "y = y.astype(int)\n",
    "m = X.shape[0]\n",
    "\n",
    "## ================ Part 2: Loading Parameters ================\n",
    "weights = scipy.io.loadmat('ex4weights.mat')\n",
    "Theta1 = weights['Theta1'] # array\n",
    "Theta2 = weights['Theta2']\n",
    "\n",
    "print(X.shape)\n",
    "print(y.shape)\n",
    "print(Theta1.shape)\n",
    "print(Theta2.shape)"
   ]
  },
  {
   "cell_type": "code",
   "execution_count": 193,
   "metadata": {},
   "outputs": [
    {
     "name": "stdout",
     "output_type": "stream",
     "text": [
      "Feedforward Using Neural Network ...\n",
      "Cost at parameters (loaded from ex4weights): (this value should be about 0.287629)\n",
      " 0.28762916516132025\n"
     ]
    }
   ],
   "source": [
    "## ================ Part 3: Compute Cost (Feedforward) ================\n",
    "print('Feedforward Using Neural Network ...')\n",
    "\n",
    "lambda_t = 0\n",
    "\n",
    "nn_params = np.concatenate((Theta1.flatten('F'), Theta2.flatten('F')))\n",
    "\n",
    "J = computeCost(nn_params, input_layer_size, hidden_layer_size, num_labels, X, y, lambda_t)\n",
    "print('Cost at parameters (loaded from ex4weights): (this value should be about 0.287629)\\n', J)"
   ]
  },
  {
   "cell_type": "code",
   "execution_count": 194,
   "metadata": {},
   "outputs": [
    {
     "name": "stdout",
     "output_type": "stream",
     "text": [
      "Checking Cost Function (w/ Regularization) ...\n",
      "Cost at parameters (loaded from ex4weights): (this value should be about 0.383770)\n",
      " 0.38376985909092476\n"
     ]
    }
   ],
   "source": [
    "## =============== Part 4: Implement Regularization ===============\n",
    "\n",
    "print('Checking Cost Function (w/ Regularization) ...')\n",
    "\n",
    "lambda_t = 1\n",
    "\n",
    "J = computeCost(nn_params, input_layer_size, hidden_layer_size, num_labels, X, y, lambda_t)\n",
    "\n",
    "print('Cost at parameters (loaded from ex4weights): (this value should be about 0.383770)\\n', J)"
   ]
  },
  {
   "cell_type": "code",
   "execution_count": 195,
   "metadata": {},
   "outputs": [
    {
     "name": "stdout",
     "output_type": "stream",
     "text": [
      "Evaluating sigmoid gradient...\n",
      "Sigmoid gradient evaluated at [-1 -0.5 0 0.5 1]:\n",
      "[0.19661193 0.23500371 0.25       0.23500371 0.19661193]\n"
     ]
    }
   ],
   "source": [
    "## ================ Part 5: Sigmoid Gradient  ================\n",
    "print('Evaluating sigmoid gradient...')\n",
    "g = sigmoidGradient(np.array([-1, -0.5, 0, 0.5, 1]))\n",
    "print('Sigmoid gradient evaluated at [-1 -0.5 0 0.5 1]:')\n",
    "print(g)"
   ]
  },
  {
   "cell_type": "code",
   "execution_count": 196,
   "metadata": {},
   "outputs": [
    {
     "name": "stdout",
     "output_type": "stream",
     "text": [
      "Initializing Neural Network Parameters ...\n",
      "(25, 401)\n",
      "(10, 26)\n"
     ]
    }
   ],
   "source": [
    "## ================ Part 6: Initializing Pameters ================\n",
    "print('Initializing Neural Network Parameters ...')\n",
    "\n",
    "initial_Theta1 = randInitializeWeights(input_layer_size, hidden_layer_size)\n",
    "initial_Theta2 = randInitializeWeights(hidden_layer_size, num_labels)\n",
    "\n",
    "initial_nn_params = np.concatenate((initial_Theta1.flatten('F'), initial_Theta2.flatten('F')))\n",
    "\n",
    "print(initial_Theta1.shape)\n",
    "print(initial_Theta2.shape)"
   ]
  },
  {
   "cell_type": "code",
   "execution_count": 197,
   "metadata": {},
   "outputs": [
    {
     "name": "stdout",
     "output_type": "stream",
     "text": [
      "Checking Backpropagation... \n",
      "[-9.27825235e-03  8.89911959e-03 -8.36010761e-03  7.62813551e-03\n",
      " -6.74798370e-03 -3.04978931e-06  1.42869427e-05 -2.59383093e-05\n",
      "  3.69883235e-05 -4.68759764e-05 -1.75060084e-04  2.33146358e-04\n",
      " -2.87468731e-04  3.35320349e-04 -3.76215583e-04 -9.62660640e-05\n",
      "  1.17982666e-04 -1.37149709e-04  1.53247082e-04 -1.66560292e-04\n",
      "  3.14544970e-01  1.11056588e-01  9.74006970e-02  1.64090819e-01\n",
      "  5.75736493e-02  5.04575855e-02  1.64567932e-01  5.77867378e-02\n",
      "  5.07530173e-02  1.58339334e-01  5.59235296e-02  4.91620841e-02\n",
      "  1.51127527e-01  5.36967009e-02  4.71456249e-02  1.49568335e-01\n",
      "  5.31542052e-02  4.65597186e-02]\n",
      "[-9.27825236e-03  8.89911960e-03 -8.36010762e-03  7.62813551e-03\n",
      " -6.74798370e-03 -3.04978914e-06  1.42869443e-05 -2.59383100e-05\n",
      "  3.69883234e-05 -4.68759769e-05 -1.75060082e-04  2.33146357e-04\n",
      " -2.87468729e-04  3.35320347e-04 -3.76215587e-04 -9.62660620e-05\n",
      "  1.17982666e-04 -1.37149706e-04  1.53247082e-04 -1.66560294e-04\n",
      "  3.14544970e-01  1.11056588e-01  9.74006970e-02  1.64090819e-01\n",
      "  5.75736493e-02  5.04575855e-02  1.64567932e-01  5.77867378e-02\n",
      "  5.07530173e-02  1.58339334e-01  5.59235296e-02  4.91620841e-02\n",
      "  1.51127527e-01  5.36967009e-02  4.71456249e-02  1.49568335e-01\n",
      "  5.31542052e-02  4.65597186e-02]\n",
      "The above two columns you get should be very similar.\n",
      "(Left-Your Numerical Gradient, Right-Analytical Gradient)\n",
      "If your backpropagation implementation is correct, then the relative difference will be small (less than 1e-9). \n",
      " Relative Difference: \n",
      " 2.3254599535763935e-11\n"
     ]
    }
   ],
   "source": [
    "## =============== Part 7: Implement Backpropagation ===============\n",
    "print('Checking Backpropagation... ')\n",
    "checkNNGradients(0)"
   ]
  },
  {
   "cell_type": "code",
   "execution_count": 198,
   "metadata": {},
   "outputs": [
    {
     "name": "stdout",
     "output_type": "stream",
     "text": [
      "Checking Backpropagation (w/ Regularization) ... \n",
      "[-9.27825235e-03  8.89911959e-03 -8.36010761e-03  7.62813551e-03\n",
      " -6.74798370e-03 -1.67679797e-02  3.94334829e-02  5.93355565e-02\n",
      "  2.47640974e-02 -3.26881426e-02 -6.01744725e-02 -3.19612287e-02\n",
      "  2.49225535e-02  5.97717617e-02  3.86410548e-02 -1.73704651e-02\n",
      " -5.75658668e-02 -4.51963845e-02  9.14587966e-03  5.46101548e-02\n",
      "  3.14544970e-01  1.11056588e-01  9.74006970e-02  1.18682669e-01\n",
      "  3.81928666e-05  3.36926556e-02  2.03987128e-01  1.17148233e-01\n",
      "  7.54801264e-02  1.25698067e-01 -4.07588279e-03  1.69677090e-02\n",
      "  1.76337550e-01  1.13133142e-01  8.61628953e-02  1.32294136e-01\n",
      " -4.52964427e-03  1.50048382e-03]\n",
      "[-9.27825236e-03  8.89911960e-03 -8.36010762e-03  7.62813551e-03\n",
      " -6.74798370e-03 -1.67679797e-02  3.94334829e-02  5.93355565e-02\n",
      "  2.47640974e-02 -3.26881426e-02 -6.01744725e-02 -3.19612287e-02\n",
      "  2.49225535e-02  5.97717617e-02  3.86410548e-02 -1.73704651e-02\n",
      " -5.75658668e-02 -4.51963845e-02  9.14587966e-03  5.46101547e-02\n",
      "  3.14544970e-01  1.11056588e-01  9.74006970e-02  1.18682669e-01\n",
      "  3.81928696e-05  3.36926556e-02  2.03987128e-01  1.17148233e-01\n",
      "  7.54801264e-02  1.25698067e-01 -4.07588279e-03  1.69677090e-02\n",
      "  1.76337550e-01  1.13133142e-01  8.61628953e-02  1.32294136e-01\n",
      " -4.52964427e-03  1.50048382e-03]\n",
      "The above two columns you get should be very similar.\n",
      "(Left-Your Numerical Gradient, Right-Analytical Gradient)\n",
      "If your backpropagation implementation is correct, then the relative difference will be small (less than 1e-9). \n",
      " Relative Difference: \n",
      " 2.2062057231665732e-11\n",
      "Cost at (fixed) debugging parameters (w/ lambda = 3 ): 0.5760512469501338\n",
      "(for lambda = 3, this value should be about 0.576051)\n",
      "\n",
      "\n"
     ]
    }
   ],
   "source": [
    "## =============== Part 8: Implement Regularization ===============\n",
    "print('Checking Backpropagation (w/ Regularization) ... ')\n",
    "lambda_t = 3\n",
    "checkNNGradients(lambda_t)\n",
    "\n",
    "debug_J = computeCost(nn_params, input_layer_size, hidden_layer_size, num_labels, X, y, lambda_t)\n",
    "\n",
    "print('Cost at (fixed) debugging parameters (w/ lambda =', lambda_t, '):', debug_J)\n",
    "print('(for lambda = 3, this value should be about 0.576051)\\n\\n')"
   ]
  },
  {
   "cell_type": "code",
   "execution_count": 199,
   "metadata": {},
   "outputs": [
    {
     "name": "stdout",
     "output_type": "stream",
     "text": [
      "Training Neural Network...\n",
      "cost:  0.7799570447574402\n"
     ]
    }
   ],
   "source": [
    "## =================== Part 8: Training NN ===================\n",
    "print('Training Neural Network...')    \n",
    "lambda_t = 1    \n",
    "#[nn_params, cost] = fmincg(costFunction, initial_nn_params, options);    \n",
    "Result = op.minimize(fun = computeCost, \n",
    "                                 x0 = initial_nn_params, \n",
    "                                 args = (input_layer_size, hidden_layer_size, num_labels, X, y, lambda_t),\n",
    "                                 method = 'TNC',\n",
    "                                 jac = computeGradient, \n",
    "                                 options={'maxiter':64})\n",
    "nn_params_op = Result.x\n",
    "cost = computeCost(nn_params_op, input_layer_size, hidden_layer_size, num_labels, X, y, lambda_t)\n",
    "print(\"cost: \", cost)\n",
    "\n",
    "\n",
    "Theta1_flat_op = nn_params_op[ : hidden_layer_size * (input_layer_size + 1)]\n",
    "Theta2_flat_op = nn_params_op[hidden_layer_size * (input_layer_size + 1) : ]\n",
    "    \n",
    "Theta1_op = np.reshape(Theta1_flat_op, (hidden_layer_size, input_layer_size+1), 'F') # 25*401;\n",
    "Theta2_op = np.reshape(Theta2_flat_op, (num_labels, hidden_layer_size+1), 'F') # 10*26;"
   ]
  },
  {
   "cell_type": "code",
   "execution_count": 200,
   "metadata": {},
   "outputs": [],
   "source": [
    "def predict(Theta1, Theta2, X):\n",
    "    m = X.shape[0]\n",
    "    num_labels = Theta2.shape[0]\n",
    "    \n",
    "    p = np.zeros((m, 1))\n",
    "    h1 = sigmoid(np.dot(np.c_[np.ones([m, 1]), X], Theta1.T))\n",
    "    h2 = sigmoid(np.dot(np.c_[np.ones([m, 1]), h1], Theta2.T)) # 5000 * 10;\n",
    "\n",
    "\n",
    "    p = np.argmax(h2, axis=1) + 1\n",
    "    p = np.reshape(p, (-1, 1))\n",
    "\n",
    "    return p"
   ]
  },
  {
   "cell_type": "code",
   "execution_count": 201,
   "metadata": {},
   "outputs": [
    {
     "name": "stdout",
     "output_type": "stream",
     "text": [
      "Training Set Accuracy: \n",
      " 90.08\n"
     ]
    }
   ],
   "source": [
    "## ================= Part 10: Implement Predict =================\n",
    "pred = predict(Theta1_op, Theta2_op, X)\n",
    "print('Training Set Accuracy: \\n', np.sum(pred == y) * 100 / pred.shape[0])"
   ]
  },
  {
   "cell_type": "code",
   "execution_count": null,
   "metadata": {},
   "outputs": [],
   "source": []
  }
 ],
 "metadata": {
  "kernelspec": {
   "display_name": "Python 3",
   "language": "python",
   "name": "python3"
  },
  "language_info": {
   "codemirror_mode": {
    "name": "ipython",
    "version": 3
   },
   "file_extension": ".py",
   "mimetype": "text/x-python",
   "name": "python",
   "nbconvert_exporter": "python",
   "pygments_lexer": "ipython3",
   "version": "3.7.3"
  }
 },
 "nbformat": 4,
 "nbformat_minor": 2
}
