{
 "cells": [
  {
   "cell_type": "code",
   "execution_count": 739,
   "metadata": {},
   "outputs": [],
   "source": [
    "import tensorflow as tf\n",
    "import numpy as np\n",
    "import matplotlib.pyplot as plt\n",
    "import scipy.optimize as op"
   ]
  },
  {
   "cell_type": "code",
   "execution_count": 740,
   "metadata": {},
   "outputs": [],
   "source": [
    "def sigmoid(z):\n",
    "    result = 1.0 / (1.0 + np.exp(-z))\n",
    "    \n",
    "    return result"
   ]
  },
  {
   "cell_type": "code",
   "execution_count": 741,
   "metadata": {},
   "outputs": [],
   "source": [
    "def sigmoidGradient(z):\n",
    "    result = np.multiply(sigmoid(z), (1-sigmoid(z)))\n",
    "    \n",
    "    return result"
   ]
  },
  {
   "cell_type": "code",
   "execution_count": 742,
   "metadata": {},
   "outputs": [],
   "source": [
    "def debugInitializeWeights(fan_out, fan_in):\n",
    "    W = np.zeros((fan_out, fan_in+1))\n",
    "    W = np.reshape(W, (1, -1))\n",
    "    \n",
    "    for i in range(W.shape[1]):\n",
    "        W[0][i] = np.sin(i+1) / 10\n",
    "    \n",
    "    W = np.reshape(W, (fan_out, fan_in+1))\n",
    "    \n",
    "    return W"
   ]
  },
  {
   "cell_type": "code",
   "execution_count": null,
   "metadata": {},
   "outputs": [],
   "source": [
    "def computeNumericalGradient(J, theta):\n",
    "    \n",
    "    \n",
    "    \n",
    "    \n",
    "    "
   ]
  },
  {
   "cell_type": "code",
   "execution_count": 743,
   "metadata": {},
   "outputs": [],
   "source": [
    "def checkNNGradients(lambda_t):\n",
    "    input_layer_size = 3\n",
    "    hidden_layer_size = 5\n",
    "    num_labels = 3\n",
    "    m = 5\n",
    "    \n",
    "    Theta1 = debugInitializeWeights(hidden_layer_size, input_layer_size)\n",
    "    Theta2 = debugInitializeWeights(num_labels, hidden_layer_size)\n",
    "    X  = debugInitializeWeights(m, input_layer_size - 1)\n",
    "    y = np.zeros((m, 1))\n",
    "    for i in range(m):\n",
    "        y[i][0] = 1 + (i+1) % num_labels\n",
    "    y = y.astype(int)\n",
    "    \n",
    "    nn_params = np.concatenate((Theta1.flatten(), Theta2.flatten()))\n",
    "    cost = computeCost(nn_params, input_layer_size, hidden_layer_size, num_labels, X, y, lambda_t)\n",
    "    grad = computeGradient(nn_params, input_layer_size, hidden_layer_size, num_labels, X, y, lambda_t)\n",
    "    \n",
    "    "
   ]
  },
  {
   "cell_type": "code",
   "execution_count": 744,
   "metadata": {},
   "outputs": [],
   "source": [
    "def computeCost(nn_params, input_layer_size, hidden_layer_size, num_labels, X, y, lambda_t):\n",
    "\n",
    "    Theta1_flat = nn_params[ : hidden_layer_size * (input_layer_size + 1)]\n",
    "    Theta2_flat = nn_params[hidden_layer_size * (input_layer_size + 1) : ]\n",
    "    \n",
    "    Theta1 = np.reshape(Theta1_flat, (hidden_layer_size, input_layer_size+1))\n",
    "    Theta2 = np.reshape(Theta2_flat, (num_labels, hidden_layer_size+1))\n",
    "    \n",
    "    m = X.shape[0]\n",
    "\n",
    "    a1 = np.c_[np.ones([m, 1]), X]    # Add a column of ones to x\n",
    "    z2 = np.dot(a1, Theta1.T)    # 5000*25;\n",
    "\n",
    "    a2 = sigmoid(z2)    # 5000*25;\n",
    "    a2 = np.c_[np.ones([m, 1]), a2]     # 5000*26;\n",
    "\n",
    "    z3 = np.dot(a2, Theta2.T)    # 5000*10;\n",
    "    a3 = sigmoid(z3)    # 5000*10;           \n",
    "\n",
    "    y_matrix = np.zeros([m, num_labels]); # 5000*10;              \n",
    "\n",
    "    for i in range(m):\n",
    "        if y[i][0]==0:\n",
    "            y_matrix[i][9] = 1\n",
    "        else:\n",
    "            y_matrix[i][y[i][0]-1] = 1     \n",
    "\n",
    "\n",
    "    sum_t = 0\n",
    "    for i in range(m):\n",
    "        for j in range(num_labels):\n",
    "            sum_t = sum_t - y_matrix[i][j] * np.log(a3[i][j]) - (1-y_matrix[i][j]) * np.log(1-a3[i][j])\n",
    "\n",
    "    J = sum_t / m\n",
    "\n",
    "    sum_left = 0\n",
    "    for i in range(Theta1.shape[0]):\n",
    "        for j in range(1, Theta1.shape[1]):\n",
    "            sum_left = sum_left + Theta1[i][j]**2\n",
    "\n",
    "    sum_right = 0\n",
    "    for i in range(Theta2.shape[0]):\n",
    "        for j in range(1, Theta2.shape[1]):\n",
    "            sum_right = sum_right + Theta2[i][j]**2\n",
    "\n",
    "    J = J + (lambda_t/(2*m))*(sum_left + sum_right);\n",
    "    \n",
    "    return J"
   ]
  },
  {
   "cell_type": "code",
   "execution_count": 745,
   "metadata": {},
   "outputs": [],
   "source": [
    "def computeGradient(nn_params, input_layer_size, hidden_layer_size, num_labels, X, y, lambda_t):\n",
    "\n",
    "    Theta1_flat = nn_params[ : hidden_layer_size * (input_layer_size + 1)]\n",
    "    Theta2_flat = nn_params[hidden_layer_size * (input_layer_size + 1) : ]\n",
    "    \n",
    "    Theta1 = np.reshape(Theta1_flat, (hidden_layer_size, input_layer_size+1)) # 25*401;\n",
    "    Theta2 = np.reshape(Theta2_flat, (num_labels, hidden_layer_size+1)) # 10*26;\n",
    "    \n",
    "    # nnCostFunction\n",
    "    Theta1_grad = np.zeros(Theta1.shape) # 25*401;\n",
    "    Theta2_grad = np.zeros(Theta2.shape) # 10*26;\n",
    "    \n",
    "    m = X.shape[0]\n",
    "\n",
    "    a1 = np.c_[np.ones([m, 1]), X]    # Add a column of ones to x\n",
    "    z2 = np.dot(a1, Theta1.T)    # 5000*25;\n",
    "\n",
    "    a2 = sigmoid(z2)    # 5000*25;\n",
    "    a2 = np.c_[np.ones([m, 1]), a2]     # 5000*26;\n",
    "\n",
    "    z3 = np.dot(a2, Theta2.T)    # 5000*10;\n",
    "    a3 = sigmoid(z3)    # 5000*10;           \n",
    "\n",
    "    y_matrix = np.zeros([m, num_labels]); # 5000*10;              \n",
    "\n",
    "    for i in range(m):\n",
    "        if y[i][0]==0:\n",
    "            y_matrix[i][9] = 1\n",
    "        else:\n",
    "            y_matrix[i][y[i][0]-1] = 1     \n",
    "\n",
    "    \n",
    "    ##-----------------------calculate Theta1_grad and Theta2_grad---------------------------\n",
    "    for i in range(m):\n",
    "        delta3 = a3[i] - y_matrix[i]\n",
    "        delta3 = np.reshape(delta3, (1, -1)) # 1*10;\n",
    "        \n",
    "        term1 = np.dot(delta3, Theta2)\n",
    "        term1 = (term1.T)[1:]\n",
    "        term1 = np.reshape(term1, (1, -1))\n",
    "        \n",
    "        term2 = sigmoidGradient(z2[i])\n",
    "        term2 = np.reshape(term2, (1, -1))\n",
    "        \n",
    "        delta2 = np.multiply(term1, term2) # 1*25;\n",
    "\n",
    "        Theta1_grad = Theta1_grad + np.dot(delta2.T, np.reshape(a1[i], (1, -1)))    # 25*401;\n",
    "        Theta2_grad = Theta2_grad + np.dot(delta3.T, np.reshape(a2[i], (1, -1)))    # 10*26;    \n",
    "\n",
    "    Theta1_grad = Theta1_grad / m\n",
    "    Theta2_grad = Theta2_grad / m\n",
    "    \n",
    "    grad = np.concatenate((Theta1_grad.flatten(), Theta2_grad.flatten()))\n",
    "    \n",
    "    return grad"
   ]
  },
  {
   "cell_type": "code",
   "execution_count": 746,
   "metadata": {},
   "outputs": [],
   "source": [
    "def randInitializeWeights(L_in, L_out):\n",
    "    epsilon_init = 0.12\n",
    "    W = np.random.rand(L_out, 1 + L_in) * 2 * epsilon_init - epsilon_init\n",
    "    \n",
    "    return W"
   ]
  },
  {
   "cell_type": "code",
   "execution_count": 747,
   "metadata": {},
   "outputs": [
    {
     "name": "stdout",
     "output_type": "stream",
     "text": [
      "(5000, 400)\n",
      "(5000, 1)\n",
      "(25, 401)\n",
      "(10, 26)\n"
     ]
    }
   ],
   "source": [
    "input_layer_size  = 400    # 20x20 Input Images of Digits\n",
    "hidden_layer_size = 25    # 25 hidden units\n",
    "num_labels = 10          # 10 labels, from 1 to 10   \n",
    "                          # (note that we have mapped \"0\" to label 10)\n",
    "\n",
    "## =========== Part 1: Loading and Visualizing Data =============\n",
    "\n",
    "X = np.loadtxt('ex4data_x.txt')\n",
    "y = np.loadtxt('ex4data_y.txt')\n",
    "y = np.reshape(y, (-1, 1))\n",
    "y = y.astype(int)\n",
    "m = X.shape[0]\n",
    "\n",
    "## ================ Part 2: Loading Parameters ================\n",
    "\n",
    "Theta1 = np.loadtxt('ex4data_theta1.txt')\n",
    "Theta2 = np.loadtxt('ex4data_theta2.txt')\n",
    "\n",
    "print(X.shape)\n",
    "print(y.shape)\n",
    "print(Theta1.shape)\n",
    "print(Theta2.shape)"
   ]
  },
  {
   "cell_type": "code",
   "execution_count": 748,
   "metadata": {},
   "outputs": [
    {
     "name": "stdout",
     "output_type": "stream",
     "text": [
      "Feedforward Using Neural Network ...\n",
      "Cost at parameters (loaded from ex4weights): (this value should be about 0.287629)\n",
      " 0.2876291652410021\n"
     ]
    }
   ],
   "source": [
    "## ================ Part 3: Compute Cost (Feedforward) ================\n",
    "print('Feedforward Using Neural Network ...')\n",
    "\n",
    "lambda_t = 0\n",
    "\n",
    "nn_params = np.concatenate((Theta1.flatten(), Theta2.flatten()))\n",
    "\n",
    "J= computeCost(nn_params, input_layer_size, hidden_layer_size, num_labels, X, y, lambda_t)\n",
    "print('Cost at parameters (loaded from ex4weights): (this value should be about 0.287629)\\n', J)"
   ]
  },
  {
   "cell_type": "code",
   "execution_count": 749,
   "metadata": {},
   "outputs": [
    {
     "name": "stdout",
     "output_type": "stream",
     "text": [
      "Checking Cost Function (w/ Regularization) ...\n",
      "Cost at parameters (loaded from ex4weights): (this value should be about 0.383770)\n",
      " 0.3837698591466515\n"
     ]
    }
   ],
   "source": [
    "## =============== Part 4: Implement Regularization ===============\n",
    "\n",
    "print('Checking Cost Function (w/ Regularization) ...')\n",
    "\n",
    "lambda_t = 1\n",
    "\n",
    "J = computeCost(nn_params, input_layer_size, hidden_layer_size, num_labels, X, y, lambda_t)\n",
    "#Gradient = computeGradient(nn_params, input_layer_size, hidden_layer_size, num_labels, X, y, lambda_t)\n",
    "#print(Gradient.shape)\n",
    "\n",
    "print('Cost at parameters (loaded from ex4weights): (this value should be about 0.383770)\\n', J)\n"
   ]
  },
  {
   "cell_type": "code",
   "execution_count": 750,
   "metadata": {},
   "outputs": [
    {
     "name": "stdout",
     "output_type": "stream",
     "text": [
      "Evaluating sigmoid gradient...\n",
      "Sigmoid gradient evaluated at [-1 -0.5 0 0.5 1]:\n",
      "[0.19661193 0.23500371 0.25       0.23500371 0.19661193]\n"
     ]
    }
   ],
   "source": [
    "## ================ Part 5: Sigmoid Gradient  ================\n",
    "print('Evaluating sigmoid gradient...')\n",
    "g = sigmoidGradient(np.array([-1, -0.5, 0, 0.5, 1]))\n",
    "print('Sigmoid gradient evaluated at [-1 -0.5 0 0.5 1]:')\n",
    "print(g)"
   ]
  },
  {
   "cell_type": "code",
   "execution_count": 751,
   "metadata": {},
   "outputs": [
    {
     "name": "stdout",
     "output_type": "stream",
     "text": [
      "Initializing Neural Network Parameters ...\n",
      "(25, 401)\n",
      "(10, 26)\n"
     ]
    }
   ],
   "source": [
    "## ================ Part 6: Initializing Pameters ================\n",
    "print('Initializing Neural Network Parameters ...')\n",
    "\n",
    "initial_Theta1 = randInitializeWeights(input_layer_size, hidden_layer_size)\n",
    "initial_Theta2 = randInitializeWeights(hidden_layer_size, num_labels)\n",
    "\n",
    "initial_nn_params = np.concatenate((initial_Theta1.flatten(), initial_Theta2.flatten()))\n",
    "\n",
    "print(initial_Theta1.shape)\n",
    "print(initial_Theta2.shape)"
   ]
  },
  {
   "cell_type": "code",
   "execution_count": 752,
   "metadata": {},
   "outputs": [
    {
     "name": "stdout",
     "output_type": "stream",
     "text": [
      "Checking Backpropagation... \n",
      "[[ 0.0841471   0.09092974  0.014112  ]\n",
      " [-0.07568025 -0.09589243 -0.02794155]]\n"
     ]
    }
   ],
   "source": [
    "## =============== Part 7: Implement Backpropagation ===============\n",
    "print('Checking Backpropagation... ')\n",
    "print(debugInitializeWeights(2, 2))\n",
    "\n",
    "checkNNGradients(0)\n"
   ]
  },
  {
   "cell_type": "code",
   "execution_count": 753,
   "metadata": {},
   "outputs": [
    {
     "name": "stdout",
     "output_type": "stream",
     "text": [
      "Checking Backpropagation (w/ Regularization) ... \n"
     ]
    }
   ],
   "source": [
    "## =============== Part 8: Implement Regularization ===============\n",
    "print('Checking Backpropagation (w/ Regularization) ... ')\n"
   ]
  }
 ],
 "metadata": {
  "kernelspec": {
   "display_name": "Python 3",
   "language": "python",
   "name": "python3"
  },
  "language_info": {
   "codemirror_mode": {
    "name": "ipython",
    "version": 3
   },
   "file_extension": ".py",
   "mimetype": "text/x-python",
   "name": "python",
   "nbconvert_exporter": "python",
   "pygments_lexer": "ipython3",
   "version": "3.7.3"
  }
 },
 "nbformat": 4,
 "nbformat_minor": 2
}
