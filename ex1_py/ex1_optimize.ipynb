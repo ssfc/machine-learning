{
 "cells": [
  {
   "cell_type": "code",
   "execution_count": 73,
   "metadata": {},
   "outputs": [],
   "source": [
    "import numpy as np\n",
    "import matplotlib.pyplot as plt  # 绘图库\n",
    "import scipy.optimize as op"
   ]
  },
  {
   "cell_type": "code",
   "execution_count": 74,
   "metadata": {},
   "outputs": [],
   "source": [
    "## ======================= Part 2: Plotting =======================\n",
    "data = np.loadtxt('ex1data1.txt')\n",
    "m = data.shape[0]\n",
    "X = np.c_[np.ones([m, 1]), data[:, 0]]    # Add a column of ones to x\n",
    "y = data[:, 1]\n",
    "y = np.reshape(y, (-1, 1))"
   ]
  },
  {
   "cell_type": "code",
   "execution_count": 75,
   "metadata": {},
   "outputs": [],
   "source": [
    "def computeCost(theta, X, y):\n",
    "\n",
    "    \n",
    "    m, n = X.shape # number of training examples\n",
    "    theta = np.reshape(theta, (2,1))\n",
    "    \n",
    "    delta = np.dot(X, theta) - np.reshape(y, (m, 1))    \n",
    "    J = np.sum(np.square(delta)) / (2*m)\n",
    "\n",
    "\n",
    "    return J"
   ]
  },
  {
   "cell_type": "code",
   "execution_count": 76,
   "metadata": {},
   "outputs": [],
   "source": [
    "def computeGradient(theta, X, y):\n",
    "    m = X.shape[0]\n",
    "    n = X.shape[1]\n",
    "    theta = np.reshape(theta, (2,1))\n",
    "    \n",
    "    hypothesis = np.dot(X, theta)\n",
    "    grad = np.dot(X.T, hypothesis - y) / m\n",
    "    \n",
    "    return grad.flatten()"
   ]
  },
  {
   "cell_type": "code",
   "execution_count": 77,
   "metadata": {},
   "outputs": [
    {
     "name": "stdout",
     "output_type": "stream",
     "text": [
      "Testing the cost function ...\n",
      "With theta = [0 ; 0]\n",
      "Cost computed =  32.072733877455676\n",
      "Expected cost value (approx) 32.07\n",
      "With theta = [-1 ; 2]\n",
      "Cost computed =  54.24245508201238\n",
      "Expected cost value (approx) 54.24\n",
      "Theta found by optimize minimize:\n",
      "[[0.]\n",
      " [0.]]\n",
      "Expected theta values (approx)\n",
      " -3.6303\n",
      "  1.1664\n",
      "\n",
      "\n"
     ]
    },
    {
     "data": {
      "image/png": "[encoded data removed]",
      "text/plain": [
       "<Figure size 432x288 with 1 Axes>"
      ]
     },
     "metadata": {
      "needs_background": "light"
     },
     "output_type": "display_data"
    },
    {
     "name": "stdout",
     "output_type": "stream",
     "text": [
      "For population = 35,000, we predict a profit of \n",
      " 2798.3703605022424\n",
      "For population = 70,000, we predict a profit of \n",
      " 44554.54718116604\n"
     ]
    }
   ],
   "source": [
    "## =================== Part 3: Cost and Gradient descent ===================\n",
    "theta = np.zeros([2, 1])    # initialize fitting parameters\n",
    "\n",
    "\n",
    "print(\"Testing the cost function ...\")\n",
    "# compute and display initial cost\n",
    "J = computeCost(theta, X, y)\n",
    "print(\"With theta = [0 ; 0]\\nCost computed = \", J)\n",
    "print(\"Expected cost value (approx) 32.07\")\n",
    "\n",
    "\n",
    "# further testing of the cost function\n",
    "J = computeCost([[-1], [2]], X, y)\n",
    "print(\"With theta = [-1 ; 2]\\nCost computed = \", J)\n",
    "print(\"Expected cost value (approx) 54.24\")\n",
    "\n",
    "# print theta to screen\n",
    "print(\"Theta found by optimize minimize:\")\n",
    "print(theta)\n",
    "print(\"Expected theta values (approx)\")\n",
    "print(\" -3.6303\\n  1.1664\\n\\n\")\n",
    "\n",
    "Result = op.minimize(fun = computeCost, \n",
    "                                 x0 = theta, \n",
    "                                 args = (X, y),\n",
    "                                 method = 'TNC',\n",
    "                                 jac = computeGradient)\n",
    "theta = Result.x\n",
    "\n",
    "# Plot the linear fit\n",
    "plt.scatter(X[:, 1], y, alpha=0.6)  # 绘制散点图，透明度为0.6（这样颜色浅一点，比较好看）\n",
    "plt.plot(X[:, 1], np.dot(X, theta), color='r', alpha=0.6)  # connect dots with line\n",
    "plt.show()\n",
    "\n",
    "\n",
    "# Predict values for population sizes of 35,000 and 70,000\n",
    "predict1 = np.dot([1, 3.5], theta)\n",
    "print(\"For population = 35,000, we predict a profit of \\n\",\n",
    "    predict1*10000);\n",
    "predict2 = np.dot([1, 7], theta)\n",
    "print(\"For population = 70,000, we predict a profit of \\n\",\n",
    "    predict2*10000);\n"
   ]
  },
  {
   "cell_type": "code",
   "execution_count": null,
   "metadata": {},
   "outputs": [],
   "source": []
  }
 ],
 "metadata": {
  "kernelspec": {
   "display_name": "Python 3",
   "language": "python",
   "name": "python3"
  },
  "language_info": {
   "codemirror_mode": {
    "name": "ipython",
    "version": 3
   },
   "file_extension": ".py",
   "mimetype": "text/x-python",
   "name": "python",
   "nbconvert_exporter": "python",
   "pygments_lexer": "ipython3",
   "version": "3.7.3"
  }
 },
 "nbformat": 4,
 "nbformat_minor": 2
}
