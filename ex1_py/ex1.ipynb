{
 "cells": [
  {
   "cell_type": "code",
   "execution_count": 14,
   "metadata": {},
   "outputs": [],
   "source": [
    "import numpy as np\n",
    "import matplotlib.pyplot as plt  # 绘图库"
   ]
  },
  {
   "cell_type": "code",
   "execution_count": 15,
   "metadata": {},
   "outputs": [],
   "source": [
    "## ======================= Part 2: Plotting =======================\n",
    "data = np.loadtxt('ex1data1.txt')\n",
    "m = data.shape[0]\n",
    "y = data[:, 1]"
   ]
  },
  {
   "cell_type": "code",
   "execution_count": 16,
   "metadata": {},
   "outputs": [],
   "source": [
    "def computeCost(X, y, theta) :\n",
    "\n",
    "    m = X.shape[0]; # number of training examples\n",
    "    delta = np.dot(X, theta) - np.reshape(y, (m, 1));    \n",
    "    J = np.dot(delta.T, delta) / (2*m);\n",
    "\n",
    "\n",
    "    return J[0][0]"
   ]
  },
  {
   "cell_type": "code",
   "execution_count": 17,
   "metadata": {},
   "outputs": [],
   "source": [
    "def gradientDescent(X, y, theta, alpha, num_iters):\n",
    "#    GRADIENTDESCENT Performs gradient descent to learn theta\n",
    "#    theta = GRADIENTDESCENT(X, y, theta, alpha, num_iters) updates theta by \n",
    "#    taking num_iters gradient steps with learning rate alpha\n",
    "\n",
    "#    Initialize some useful values\n",
    "\n",
    "    m = X.shape[0]; # number of training examples\n",
    "    J_history = np.zeros([num_iters, 1]);\n",
    "\n",
    "    for iter in range(0, num_iters-1):\n",
    "        \n",
    "        # ====================== YOUR CODE HERE ======================\n",
    "        # Instructions: Perform a single gradient step on the parameter vector\n",
    "        #               theta. \n",
    "        #\n",
    "        # Hint: While debugging, it can be useful to print out the values\n",
    "        #       of the cost function (computeCost) and gradient here.\n",
    "        #\n",
    "        \n",
    "        delta = np.dot(X, theta) - np.reshape(y, (m, 1)) # 97*1         \n",
    "        theta = theta - (alpha/m) * np.dot(X.T, delta)        \n",
    "        \n",
    "        # ============================================================\n",
    "\n",
    "        # Save the cost J in every iteration    \n",
    "        J_history[iter][0] = computeCost(X, y, theta);\n",
    "        \n",
    "\n",
    "    return theta"
   ]
  },
  {
   "cell_type": "code",
   "execution_count": 18,
   "metadata": {},
   "outputs": [
    {
     "name": "stdout",
     "output_type": "stream",
     "text": [
      "Testing the cost function ...\n",
      "With theta = [0 ; 0]\n",
      "Cost computed =  32.07273387745567\n",
      "Expected cost value (approx) 32.07\n",
      "With theta = [-1 ; 2]\n",
      "Cost computed =  54.24245508201238\n",
      "Expected cost value (approx) 54.24\n",
      "\n",
      "Running Gradient Descent ...\n",
      "Theta found by gradient descent:\n",
      "[[-3.62981201]\n",
      " [ 1.16631419]]\n",
      "Expected theta values (approx)\n",
      " -3.6303\n",
      "  1.1664\n",
      "\n",
      "\n"
     ]
    },
    {
     "data": {
      "image/png": "[encoded data removed]",
      "text/plain": [
       "<Figure size 432x288 with 1 Axes>"
      ]
     },
     "metadata": {
      "needs_background": "light"
     },
     "output_type": "display_data"
    },
    {
     "name": "stdout",
     "output_type": "stream",
     "text": [
      "For population = 35,000, we predict a profit of \n",
      " [4522.87645807]\n",
      "For population = 70,000, we predict a profit of \n",
      " [45343.87296638]\n"
     ]
    }
   ],
   "source": [
    "## =================== Part 3: Cost and Gradient descent ===================\n",
    "X = np.c_[np.ones([m, 1]), data[:, 0]]    # Add a column of ones to x\n",
    "theta = np.zeros([2, 1]);    # initialize fitting parameters\n",
    "#theta[0] = 1;\n",
    "#theta[1] = 2;\n",
    "\n",
    "\n",
    "# Some gradient descent settings\n",
    "iterations = 1500;\n",
    "alpha = 0.01;\n",
    "\n",
    "\n",
    "print(\"Testing the cost function ...\")\n",
    "# compute and display initial cost\n",
    "J = computeCost(X, y, theta);\n",
    "print(\"With theta = [0 ; 0]\\nCost computed = \", J)\n",
    "print(\"Expected cost value (approx) 32.07\")\n",
    "\n",
    "\n",
    "# further testing of the cost function\n",
    "J = computeCost(X, y, [[-1], [2]])\n",
    "print(\"With theta = [-1 ; 2]\\nCost computed = \", J)\n",
    "print(\"Expected cost value (approx) 54.24\")\n",
    "\n",
    "# run gradient descent\n",
    "print(\"\\nRunning Gradient Descent ...\")\n",
    "theta = gradientDescent(X, y, theta, alpha, iterations)\n",
    "\n",
    "# print theta to screen\n",
    "print(\"Theta found by gradient descent:\")\n",
    "print(theta)\n",
    "print(\"Expected theta values (approx)\")\n",
    "print(\" -3.6303\\n  1.1664\\n\\n\")\n",
    "\n",
    "# Plot the linear fit\n",
    "plt.scatter(X[:, 1], y, alpha=0.6)  # 绘制散点图，透明度为0.6（这样颜色浅一点，比较好看）\n",
    "plt.plot(X[:, 1], np.dot(X, theta), color='r', alpha=0.6)  # connect dots with line\n",
    "plt.show()\n",
    "\n",
    "\n",
    "# Predict values for population sizes of 35,000 and 70,000\n",
    "predict1 = np.dot([1, 3.5], theta)\n",
    "print(\"For population = 35,000, we predict a profit of \\n\",\n",
    "    predict1*10000);\n",
    "predict2 = np.dot([1, 7], theta)\n",
    "print(\"For population = 70,000, we predict a profit of \\n\",\n",
    "    predict2*10000);\n"
   ]
  }
 ],
 "metadata": {
  "kernelspec": {
   "display_name": "Python 3",
   "language": "python",
   "name": "python3"
  },
  "language_info": {
   "codemirror_mode": {
    "name": "ipython",
    "version": 3
   },
   "file_extension": ".py",
   "mimetype": "text/x-python",
   "name": "python",
   "nbconvert_exporter": "python",
   "pygments_lexer": "ipython3",
   "version": "3.7.3"
  }
 },
 "nbformat": 4,
 "nbformat_minor": 2
}
