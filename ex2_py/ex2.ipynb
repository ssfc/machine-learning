{
 "cells": [
  {
   "cell_type": "code",
   "execution_count": 32,
   "metadata": {},
   "outputs": [],
   "source": [
    "import matplotlib.pyplot as plt  # 绘图库\n",
    "import numpy as np\n",
    "import scipy.optimize as op"
   ]
  },
  {
   "cell_type": "code",
   "execution_count": 33,
   "metadata": {},
   "outputs": [],
   "source": [
    "data = np.loadtxt('ex2data1.txt')\n",
    "X = data[:, [0, 1]]\n",
    "\n",
    "y = data[:, 2]\n",
    "y = y.reshape((X.shape[0],1))"
   ]
  },
  {
   "cell_type": "code",
   "execution_count": 34,
   "metadata": {},
   "outputs": [],
   "source": [
    "def plotData(X, y):\n",
    "    pos = np.where(y == 1)[0]\n",
    "    neg = np.where(y == 0)[0]\n",
    "\n",
    "    #print(pos)\n",
    "\n",
    "    plt.scatter(X[pos, 0], X[pos, 1], color='b', alpha=0.6, label='Admitted')  # 绘制散点图，透明度为0.6\n",
    "    plt.scatter(X[neg, 0], X[neg, 1], color='y', alpha=0.6, label='Not admitted')  # 绘制散点图，透明度为0.6\n",
    "\n",
    "    plt.xlabel('Exam 1 score')\n",
    "    plt.ylabel('Exam 2 score')\n",
    "\n",
    "    plt.legend(loc='upper right')\n",
    "    \n",
    "    plt.show()"
   ]
  },
  {
   "cell_type": "code",
   "execution_count": 35,
   "metadata": {},
   "outputs": [
    {
     "name": "stdout",
     "output_type": "stream",
     "text": [
      "Plotting data with + indicating (y = 1) examples and o indicating (y = 0) examples.\n"
     ]
    },
    {
     "data": {
      "image/png": "[encoded data removed]",
      "text/plain": [
       "<Figure size 432x288 with 1 Axes>"
      ]
     },
     "metadata": {
      "needs_background": "light"
     },
     "output_type": "display_data"
    }
   ],
   "source": [
    "## ==================== Part 1: Plotting ====================\n",
    "print(\"Plotting data with + indicating (y = 1) examples and o indicating (y = 0) examples.\")\n",
    "\n",
    "plotData(X, y)"
   ]
  },
  {
   "cell_type": "code",
   "execution_count": 36,
   "metadata": {},
   "outputs": [],
   "source": [
    "def sigmoid(z):\n",
    "    return 1/(1 + np.exp(-z))"
   ]
  },
  {
   "cell_type": "code",
   "execution_count": 37,
   "metadata": {},
   "outputs": [],
   "source": [
    "def computeCost(theta, X, y):\n",
    "    m = X.shape[0]\n",
    "\n",
    "    hypothesis = sigmoid(np.dot(X, theta))\n",
    "    J = (np.dot(y.T, np.log(hypothesis)) + np.dot((1 - y).T, np.log(1-hypothesis))) / (-m)\n",
    "\n",
    "    return J"
   ]
  },
  {
   "cell_type": "code",
   "execution_count": 38,
   "metadata": {},
   "outputs": [],
   "source": [
    "def computeGradient(theta, X, y):\n",
    "    m, n = X.shape\n",
    "    theta = theta.reshape((n,1))\n",
    "    \n",
    "    hypothesis = sigmoid(np.dot(X, theta))\n",
    "    grad = np.dot(X.T, hypothesis - y) / m\n",
    "\n",
    "    return grad.flatten()"
   ]
  },
  {
   "cell_type": "code",
   "execution_count": 39,
   "metadata": {},
   "outputs": [
    {
     "name": "stdout",
     "output_type": "stream",
     "text": [
      "Cost at initial theta (zeros): [[0.69314718]]\n",
      "Expected cost (approx): 0.693\n",
      "\n",
      "Gradient at initial theta (zeros):\n",
      "[ -0.1        -12.00921659 -11.26284221]\n",
      "Expected gradients (approx):\n",
      " -0.1000\n",
      " -12.0092\n",
      " -11.2628\n",
      "\n",
      "Cost at test theta: [[0.21833019]]\n",
      "Expected cost (approx): 0.218\n",
      "Gradient at test theta:\n",
      "[0.04290299 2.56623412 2.64679737]\n",
      "Expected gradients (approx):\n",
      " 0.043\n",
      " 2.566\n",
      " 2.647\n"
     ]
    }
   ],
   "source": [
    "## ============ Part 2: Compute Cost and Gradient ============\n",
    "X = np.c_[np.ones([X.shape[0], 1]), X]    # Add a column of ones to x\n",
    "m, n = X.shape\n",
    "initial_theta = np.zeros([n, 1])\n",
    "\n",
    "# Compute and display initial cost and gradient\n",
    "cost = computeCost(initial_theta, X, y)\n",
    "grad = computeGradient(initial_theta, X, y)\n",
    "\n",
    "print('Cost at initial theta (zeros):', cost)\n",
    "print('Expected cost (approx): 0.693\\n')\n",
    "print('Gradient at initial theta (zeros):')\n",
    "print(grad)\n",
    "print('Expected gradients (approx):\\n -0.1000\\n -12.0092\\n -11.2628\\n')\n",
    "\n",
    "# Compute and display cost and gradient with non-zero theta\n",
    "test_theta = np.zeros([3, 1])\n",
    "test_theta[0][0] = -24\n",
    "test_theta[1][0] = 0.2\n",
    "test_theta[2][0] = 0.2\n",
    "cost = computeCost(test_theta, X, y)\n",
    "grad = computeGradient(test_theta, X, y)\n",
    "\n",
    "print('Cost at test theta:', cost)\n",
    "print('Expected cost (approx): 0.218')\n",
    "print('Gradient at test theta:')\n",
    "print(grad)\n",
    "print('Expected gradients (approx):\\n 0.043\\n 2.566\\n 2.647')"
   ]
  },
  {
   "cell_type": "code",
   "execution_count": 41,
   "metadata": {},
   "outputs": [
    {
     "name": "stdout",
     "output_type": "stream",
     "text": [
      "Cost at theta found by fminunc:  [[0.21833019]]\n",
      "Expected cost (approx): 0.203\n",
      "theta:\n",
      "[-25.16131858   0.20623159   0.20147149]\n",
      "Expected theta (approx):\n",
      " -25.161\n",
      " 0.206\n",
      " 0.201\n"
     ]
    }
   ],
   "source": [
    "## ============= Part 3: Optimizing using fminunc  =============\n",
    "Result = op.minimize(fun = computeCost, \n",
    "                                 x0 = initial_theta, \n",
    "                                 args = (X, y),\n",
    "                                 method = 'TNC',\n",
    "                                 jac = computeGradient)\n",
    "theta = Result.x\n",
    "\n",
    "# Print theta to screen\n",
    "print('Cost at theta found by fminunc: ', cost)\n",
    "print('Expected cost (approx): 0.203')\n",
    "print('theta:')\n",
    "print(theta)\n",
    "print('Expected theta (approx):')\n",
    "print(' -25.161\\n 0.206\\n 0.201')"
   ]
  },
  {
   "cell_type": "code",
   "execution_count": 42,
   "metadata": {},
   "outputs": [],
   "source": [
    "def predict(theta, X):\n",
    "    m = X.shape[0]    # Number of training examples\n",
    "\n",
    "#    You need to return the following variables correctly\n",
    "    p = np.zeros([m, 1])\n",
    "    probability = np.zeros([m, 1])\n",
    "\n",
    "    for i in range(0, m-1):\n",
    "        probability[i][0] = sigmoid(np.dot(X[i,:], theta))\n",
    "    \n",
    "        if probability[i][0] >= 0.5:\n",
    "            p[i][0] = 1\n",
    "        else:\n",
    "            p[i][0] = 0\n",
    "\n",
    "    return p"
   ]
  },
  {
   "cell_type": "code",
   "execution_count": 43,
   "metadata": {},
   "outputs": [
    {
     "name": "stdout",
     "output_type": "stream",
     "text": [
      "For a student with scores 45 and 85, we predict an admission probability of 0.776\n",
      "Expected value: 0.775 +/- 0.002\n",
      "Train Accuracy: [88.]\n",
      "Expected accuracy (approx): 89.0\n"
     ]
    }
   ],
   "source": [
    "## ============== Part 4: Predict and Accuracies ==============\n",
    "prob = sigmoid(np.dot(np.array([1, 45, 85]), theta))\n",
    "print(\"For a student with scores 45 and 85, we predict an admission probability of\", round(prob, 3))\n",
    "print('Expected value: 0.775 +/- 0.002')\n",
    "\n",
    "# Compute accuracy on our training set\n",
    "p = predict(theta, X)\n",
    "\n",
    "print('Train Accuracy:', sum(p == y) * 100 / X.shape[0])\n",
    "print('Expected accuracy (approx): 89.0')"
   ]
  },
  {
   "cell_type": "code",
   "execution_count": null,
   "metadata": {},
   "outputs": [],
   "source": []
  }
 ],
 "metadata": {
  "kernelspec": {
   "display_name": "Python 3",
   "language": "python",
   "name": "python3"
  },
  "language_info": {
   "codemirror_mode": {
    "name": "ipython",
    "version": 3
   },
   "file_extension": ".py",
   "mimetype": "text/x-python",
   "name": "python",
   "nbconvert_exporter": "python",
   "pygments_lexer": "ipython3",
   "version": "3.7.3"
  }
 },
 "nbformat": 4,
 "nbformat_minor": 2
}
