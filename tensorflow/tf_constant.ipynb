{
 "cells": [
  {
   "cell_type": "code",
   "execution_count": 1,
   "metadata": {},
   "outputs": [],
   "source": [
    "import tensorflow as tf"
   ]
  },
  {
   "cell_type": "code",
   "execution_count": 2,
   "metadata": {},
   "outputs": [],
   "source": [
    "input1 = tf.constant(-1, shape=[2, 3])\n",
    "input2 = tf.constant(3, shape=[2, 3])\n",
    "\n",
    "mul = tf.add(input1, input2)"
   ]
  },
  {
   "cell_type": "code",
   "execution_count": 3,
   "metadata": {},
   "outputs": [
    {
     "name": "stdout",
     "output_type": "stream",
     "text": [
      "[[2 2 2]\n",
      " [2 2 2]]\n"
     ]
    }
   ],
   "source": [
    "with tf.Session() as sess:\n",
    "    print(mul.eval())"
   ]
  },
  {
   "cell_type": "code",
   "execution_count": 7,
   "metadata": {},
   "outputs": [
    {
     "name": "stdout",
     "output_type": "stream",
     "text": [
      "[5. 7.]\n",
      "output:  [5. 7.]\n",
      "[14. 16.]\n"
     ]
    }
   ],
   "source": [
    "input1 = tf.constant([2.0, 3.0], dtype=tf.float32)\n",
    "input2 = tf.constant([3.0, 4.0], dtype=tf.float32)\n",
    "\n",
    "mul = tf.add(input1, input2)\n",
    "\n",
    "with tf.Session() as sess:\n",
    "    print(mul.eval())\n",
    "    print(\"output: \", sess.run(mul))\n",
    "    print(sess.run(mul, feed_dict={input1:[8.0, 9.0], input2:[6.0, 7.0]}))"
   ]
  },
  {
   "cell_type": "code",
   "execution_count": null,
   "metadata": {},
   "outputs": [],
   "source": []
  }
 ],
 "metadata": {
  "kernelspec": {
   "display_name": "Python 3",
   "language": "python",
   "name": "python3"
  },
  "language_info": {
   "codemirror_mode": {
    "name": "ipython",
    "version": 3
   },
   "file_extension": ".py",
   "mimetype": "text/x-python",
   "name": "python",
   "nbconvert_exporter": "python",
   "pygments_lexer": "ipython3",
   "version": "3.7.3"
  }
 },
 "nbformat": 4,
 "nbformat_minor": 2
}
