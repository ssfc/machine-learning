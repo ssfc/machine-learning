{
 "cells": [
  {
   "cell_type": "code",
   "execution_count": 155,
   "metadata": {},
   "outputs": [],
   "source": [
    "import tensorflow as tf\n",
    "import numpy as np\n",
    "import matplotlib.pyplot as plt"
   ]
  },
  {
   "cell_type": "code",
   "execution_count": 156,
   "metadata": {},
   "outputs": [],
   "source": [
    "# Parameters\n",
    "learning_rate = 0.01\n",
    "training_epochs = 3000\n",
    "display_step = 100"
   ]
  },
  {
   "cell_type": "code",
   "execution_count": 157,
   "metadata": {},
   "outputs": [],
   "source": [
    "data = np.loadtxt('ex1data1.txt')\n",
    "m = data.shape[0]\n",
    "\n",
    "# Training Data\n",
    "train_X = np.reshape(data[:, 0], (m,))\n",
    "train_Y = np.reshape(data[:, 1], (m,))"
   ]
  },
  {
   "cell_type": "code",
   "execution_count": 158,
   "metadata": {},
   "outputs": [],
   "source": [
    "# tf Graph Input\n",
    "X = tf.placeholder(tf.float32)\n",
    "Y = tf.placeholder(tf.float32)\n",
    "\n",
    "# Set model weights\n",
    "W = tf.Variable(0.0, name=\"weight\")\n",
    "b = tf.Variable(0.0, name=\"bias\")"
   ]
  },
  {
   "cell_type": "code",
   "execution_count": 159,
   "metadata": {},
   "outputs": [],
   "source": [
    "# Construct a linear model\n",
    "pred = tf.add(tf.multiply(X, W), b)\n",
    "\n",
    "# Mean squared error\n",
    "cost = tf.reduce_sum(tf.pow(pred-Y, 2))/(2*m)\n",
    "# Gradient descent\n",
    "#  Note, minimize() knows to modify W and b because Variable objects are trainable=True by default\n",
    "optimizer = tf.train.GradientDescentOptimizer(learning_rate).minimize(cost)"
   ]
  },
  {
   "cell_type": "code",
   "execution_count": 160,
   "metadata": {},
   "outputs": [
    {
     "name": "stdout",
     "output_type": "stream",
     "text": [
      "Epoch: 0100 cost= 5.547502995 W= 0.8196171 b= -0.576123\n",
      "Epoch: 0200 cost= 5.244796753 W= 0.8744449 b= -1.1193117\n",
      "Epoch: 0300 cost= 5.033470154 W= 0.9201627 b= -1.572243\n",
      "Epoch: 0400 cost= 4.885820389 W= 0.9582845 b= -1.9499198\n",
      "Epoch: 0500 cost= 4.782563686 W= 0.99007237 b= -2.2648456\n",
      "Epoch: 0600 cost= 4.710275173 W= 1.0165778 b= -2.5274384\n",
      "Epoch: 0700 cost= 4.659599304 W= 1.0386791 b= -2.746402\n",
      "Epoch: 0800 cost= 4.624021053 W= 1.0571072 b= -2.9289713\n",
      "Epoch: 0900 cost= 4.598993301 W= 1.0724742 b= -3.0812137\n",
      "Epoch: 1000 cost= 4.581351757 W= 1.085288 b= -3.208158\n",
      "Epoch: 1100 cost= 4.568889141 W= 1.0959703 b= -3.3139977\n",
      "Epoch: 1200 cost= 4.560055256 W= 1.1048784 b= -3.402249\n",
      "Epoch: 1300 cost= 4.553771973 W= 1.112306 b= -3.4758286\n",
      "Epoch: 1400 cost= 4.549290180 W= 1.1185005 b= -3.5372074\n",
      "Epoch: 1500 cost= 4.546075344 W= 1.1236651 b= -3.5883703\n",
      "Epoch: 1600 cost= 4.543759346 W= 1.1279716 b= -3.6310384\n",
      "Epoch: 1700 cost= 4.542080402 W= 1.1315644 b= -3.6666293\n",
      "Epoch: 1800 cost= 4.540858269 W= 1.1345606 b= -3.6963153\n",
      "Epoch: 1900 cost= 4.539959431 W= 1.137059 b= -3.7210627\n",
      "Epoch: 2000 cost= 4.539297104 W= 1.1391414 b= -3.741695\n",
      "Epoch: 2100 cost= 4.538804531 W= 1.140877 b= -3.7588913\n",
      "Epoch: 2200 cost= 4.538431644 W= 1.1423271 b= -3.7732518\n",
      "Epoch: 2300 cost= 4.538153172 W= 1.1435332 b= -3.7852037\n",
      "Epoch: 2400 cost= 4.537940979 W= 1.1445392 b= -3.7951753\n",
      "Epoch: 2500 cost= 4.537774563 W= 1.1453801 b= -3.8035004\n",
      "Epoch: 2600 cost= 4.537647247 W= 1.1460814 b= -3.8104486\n",
      "Epoch: 2700 cost= 4.537548542 W= 1.1466622 b= -3.816205\n",
      "Epoch: 2800 cost= 4.537469864 W= 1.1471469 b= -3.8210022\n",
      "Epoch: 2900 cost= 4.537407398 W= 1.1475557 b= -3.825053\n",
      "Epoch: 3000 cost= 4.537358284 W= 1.1478926 b= -3.828391\n",
      "Optimization Finished!\n",
      "Training cost= 4.5373583 W= 1.1478926 b= -3.828391 \n",
      "\n"
     ]
    },
    {
     "data": {
      "image/png": "[encoded data removed]",
      "text/plain": [
       "<Figure size 432x288 with 1 Axes>"
      ]
     },
     "metadata": {
      "needs_background": "light"
     },
     "output_type": "display_data"
    }
   ],
   "source": [
    "# 开始训练\n",
    "with tf.Session() as sess:\n",
    "\n",
    "    # 执行初始化操作\n",
    "    sess.run(tf.global_variables_initializer())\n",
    "\n",
    "    # 拟合模型数据\n",
    "    for epoch in range(training_epochs):\n",
    "        for (x, y) in zip(train_X, train_Y):\n",
    "            sess.run(optimizer, feed_dict={X: x, Y: y})\n",
    "\n",
    "        # 每50次迭代后在控制台输出模型当前训练的loss以及权重大小\n",
    "        if (epoch+1) % display_step == 0:\n",
    "            c = sess.run(cost, feed_dict={X: train_X, Y:train_Y})\n",
    "            print(\"Epoch:\", '%04d' % (epoch+1), \"cost=\", \"{:.9f}\".format(c), \\\n",
    "                \"W=\", sess.run(W), \"b=\", sess.run(b))\n",
    "\n",
    "    print(\"Optimization Finished!\")\n",
    "    training_cost = sess.run(cost, feed_dict={X: train_X, Y: train_Y})\n",
    "    print(\"Training cost=\", training_cost, \"W=\", sess.run(W), \"b=\", sess.run(b), '\\n')\n",
    "\n",
    "    # 画出拟合图像\n",
    "    plt.plot(train_X, train_Y, 'ro', label='Original data')\n",
    "    plt.plot(train_X, sess.run(W) * train_X + sess.run(b), label='Fitted line')\n",
    "    plt.legend()\n",
    "    plt.show()    \n"
   ]
  },
  {
   "cell_type": "code",
   "execution_count": null,
   "metadata": {},
   "outputs": [],
   "source": []
  }
 ],
 "metadata": {
  "kernelspec": {
   "display_name": "Python 3",
   "language": "python",
   "name": "python3"
  },
  "language_info": {
   "codemirror_mode": {
    "name": "ipython",
    "version": 3
   },
   "file_extension": ".py",
   "mimetype": "text/x-python",
   "name": "python",
   "nbconvert_exporter": "python",
   "pygments_lexer": "ipython3",
   "version": "3.7.3"
  }
 },
 "nbformat": 4,
 "nbformat_minor": 2
}
