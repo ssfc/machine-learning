{
 "cells": [
  {
   "cell_type": "code",
   "execution_count": 19,
   "metadata": {},
   "outputs": [],
   "source": [
    "import tensorflow as tf\n",
    "import numpy as np\n",
    "import matplotlib.pyplot as plt"
   ]
  },
  {
   "cell_type": "code",
   "execution_count": 20,
   "metadata": {},
   "outputs": [],
   "source": [
    "# Parameters\n",
    "learning_rate = 0.01\n",
    "training_epochs = 2000\n",
    "display_step = 100"
   ]
  },
  {
   "cell_type": "code",
   "execution_count": 21,
   "metadata": {},
   "outputs": [],
   "source": [
    "data = np.loadtxt('ex1data1.txt')\n",
    "m = data.shape[0]\n",
    "\n",
    "# Training Data\n",
    "train_X = np.reshape(data[:, 0], (m, 1))\n",
    "train_X = np.c_[np.ones([m, 1]), train_X]    # Add a column of ones to x\n",
    "train_Y = np.reshape(data[:, 1], (m, 1))"
   ]
  },
  {
   "cell_type": "code",
   "execution_count": 22,
   "metadata": {},
   "outputs": [],
   "source": [
    "# tf Graph Input\n",
    "X = tf.placeholder(tf.float32, shape=(m, 2))\n",
    "Y = tf.placeholder(tf.float32, shape=(m, 1))\n",
    "\n",
    "# Set model weights\n",
    "theta = tf.Variable(tf.zeros([2, 1]), name=\"theta\") "
   ]
  },
  {
   "cell_type": "code",
   "execution_count": 23,
   "metadata": {},
   "outputs": [],
   "source": [
    "# Construct a linear model\n",
    "pred = tf.matmul(X, theta) # X.shape=(m, 2); theta.shape=(2, 1)\n",
    "# Mean squared error\n",
    "cost = tf.reduce_sum(tf.pow(pred-Y, 2))/(2*m)\n",
    "# Gradient descent\n",
    "#  Note, minimize() knows to modify W and b because Variable objects are trainable=True by default\n",
    "optimizer = tf.train.GradientDescentOptimizer(learning_rate).minimize(cost)"
   ]
  },
  {
   "cell_type": "code",
   "execution_count": 24,
   "metadata": {},
   "outputs": [
    {
     "name": "stdout",
     "output_type": "stream",
     "text": [
      "Epoch: 100 cost= 32.072735 W= 0.0 b= 0.0\n",
      "Epoch: 200 cost= 32.072735 W= 0.0 b= 0.0\n",
      "Epoch: 300 cost= 32.072735 W= 0.0 b= 0.0\n",
      "Epoch: 400 cost= 32.072735 W= 0.0 b= 0.0\n",
      "Epoch: 500 cost= 32.072735 W= 0.0 b= 0.0\n",
      "Epoch: 600 cost= 32.072735 W= 0.0 b= 0.0\n",
      "Epoch: 700 cost= 32.072735 W= 0.0 b= 0.0\n",
      "Epoch: 800 cost= 32.072735 W= 0.0 b= 0.0\n",
      "Epoch: 900 cost= 32.072735 W= 0.0 b= 0.0\n",
      "Epoch: 1000 cost= 32.072735 W= 0.0 b= 0.0\n",
      "Epoch: 1100 cost= 32.072735 W= 0.0 b= 0.0\n",
      "Epoch: 1200 cost= 32.072735 W= 0.0 b= 0.0\n",
      "Epoch: 1300 cost= 32.072735 W= 0.0 b= 0.0\n",
      "Epoch: 1400 cost= 32.072735 W= 0.0 b= 0.0\n",
      "Epoch: 1500 cost= 32.072735 W= 0.0 b= 0.0\n",
      "Epoch: 1600 cost= 32.072735 W= 0.0 b= 0.0\n",
      "Epoch: 1700 cost= 32.072735 W= 0.0 b= 0.0\n",
      "Epoch: 1800 cost= 32.072735 W= 0.0 b= 0.0\n",
      "Epoch: 1900 cost= 32.072735 W= 0.0 b= 0.0\n",
      "Epoch: 2000 cost= 32.072735 W= 0.0 b= 0.0\n",
      "Optimization Finished!\n",
      "Training cost= 32.072735 W= 0.0 b= 0.0 \n",
      "\n"
     ]
    },
    {
     "data": {
      "image/png": "[encoded data removed]",
      "text/plain": [
       "<Figure size 432x288 with 1 Axes>"
      ]
     },
     "metadata": {
      "needs_background": "light"
     },
     "output_type": "display_data"
    }
   ],
   "source": [
    "# 开始训练\n",
    "with tf.Session() as sess:\n",
    "\n",
    "    # 执行初始化操作\n",
    "    sess.run(tf.global_variables_initializer())\n",
    "\n",
    "    # 拟合模型数据\n",
    "    for epoch in range(training_epochs):\n",
    "#        sess.run(optimizer, feed_dict={X: train_X, Y: train_Y})\n",
    "        sess.run(cost, feed_dict={X: train_X, Y: train_Y})\n",
    "        \n",
    "        # 每50次迭代后在控制台输出模型当前训练的loss以及权重大小\n",
    "        if (epoch+1) % display_step == 0:\n",
    "            c = sess.run(cost, feed_dict={X: train_X, Y:train_Y})\n",
    "            print(\"Epoch:\", (epoch+1), \"cost=\", c, \"W=\", theta[1][0].eval(), \"b=\", theta[0][0].eval())\n",
    "\n",
    "    print(\"Optimization Finished!\")\n",
    "    training_cost = sess.run(cost, feed_dict={X: train_X, Y: train_Y})\n",
    "    print(\"Training cost=\", training_cost, \"W=\", theta[1][0].eval(), \"b=\", theta[0][0].eval(), '\\n')\n",
    "\n",
    "    # 画出拟合图像\n",
    "    plt.plot(train_X[:,1], train_Y, 'ro', label='Original data')\n",
    "    plt.plot(train_X[:,1], sess.run(theta[1][0]) * train_X[:,1] + sess.run(theta[0][0]), label='Fitted line', color='b')\n",
    "    plt.legend()\n",
    "    plt.show()    \n"
   ]
  },
  {
   "cell_type": "code",
   "execution_count": null,
   "metadata": {},
   "outputs": [],
   "source": []
  }
 ],
 "metadata": {
  "kernelspec": {
   "display_name": "Python 3",
   "language": "python",
   "name": "python3"
  },
  "language_info": {
   "codemirror_mode": {
    "name": "ipython",
    "version": 3
   },
   "file_extension": ".py",
   "mimetype": "text/x-python",
   "name": "python",
   "nbconvert_exporter": "python",
   "pygments_lexer": "ipython3",
   "version": "3.7.3"
  }
 },
 "nbformat": 4,
 "nbformat_minor": 2
}
