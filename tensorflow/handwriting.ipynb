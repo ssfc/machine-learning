{
 "cells": [
  {
   "cell_type": "code",
   "execution_count": 3,
   "metadata": {},
   "outputs": [
    {
     "name": "stdout",
     "output_type": "stream",
     "text": [
      "Extracting MNIST_data/train-images-idx3-ubyte.gz\n",
      "Extracting MNIST_data/train-labels-idx1-ubyte.gz\n",
      "Extracting MNIST_data/t10k-images-idx3-ubyte.gz\n",
      "Extracting MNIST_data/t10k-labels-idx1-ubyte.gz\n",
      "训练集信息：\n",
      "(55000, 784) (55000, 10)\n",
      "测试集信息：\n",
      "(10000, 784) (10000, 10)\n",
      "验证集信息：\n",
      "(5000, 784) (5000, 10)\n",
      "MNIST手写图片准确率：\n",
      "0.9165\n"
     ]
    }
   ],
   "source": [
    "# 描述：进行手写数字的识别的实例分析\n",
    "import tensorflow as tf\n",
    " \n",
    "from tensorflow.examples.tutorials.mnist import input_data\n",
    " \n",
    "# 获取数据\n",
    "mnist = input_data.read_data_sets(\"MNIST_data/\", one_hot=True)\n",
    " \n",
    "print('训练集信息：')\n",
    "print(mnist.train.images.shape, mnist.train.labels.shape)\n",
    "print('测试集信息：')\n",
    "print(mnist.test.images.shape, mnist.test.labels.shape)\n",
    "print('验证集信息：')\n",
    "print(mnist.validation.images.shape, mnist.validation.labels.shape)\n",
    " \n",
    "# 构建图\n",
    "X = tf.placeholder(tf.float32, [None, 784])\n",
    "W = tf.Variable(tf.zeros([784,10]))\n",
    "b = tf.Variable(tf.zeros([10]))\n",
    " \n",
    "y = tf.nn.softmax(tf.matmul(X, W) + b)\n",
    " \n",
    "y_ = tf.placeholder(tf.float32, [None,10])\n",
    "cross_entropy = tf.reduce_mean(-tf.reduce_sum(y_ * tf.log(y),reduction_indices=[1]))\n",
    "train_step = tf.train.GradientDescentOptimizer(0.5).minimize(cross_entropy)\n",
    " \n",
    "# 进行训练\n",
    "with tf.Session() as sess:\n",
    "    sess.run(tf.global_variables_initializer())     #运行变量的initializer。调用op之前，所有变量都应被显式地初始化过。\n",
    "\n",
    " \n",
    "    for i in range(1000):\n",
    "        batch_xs, batch_ys = mnist.train.next_batch(100)\n",
    "        train_step.run({X: batch_xs, y_: batch_ys})\n",
    "\n",
    "    # 模型评估\n",
    "    correct_prediction = tf.equal(tf.argmax(y,1), tf.argmax(y_,1))\n",
    "    accuracy = tf.reduce_mean(tf.cast(correct_prediction, tf.float32))\n",
    "\n",
    "    print('MNIST手写图片准确率：')\n",
    "    print(accuracy.eval({X: mnist.test.images, y_: mnist.test.labels}))"
   ]
  },
  {
   "cell_type": "code",
   "execution_count": null,
   "metadata": {},
   "outputs": [],
   "source": []
  }
 ],
 "metadata": {
  "kernelspec": {
   "display_name": "Python 3",
   "language": "python",
   "name": "python3"
  },
  "language_info": {
   "codemirror_mode": {
    "name": "ipython",
    "version": 3
   },
   "file_extension": ".py",
   "mimetype": "text/x-python",
   "name": "python",
   "nbconvert_exporter": "python",
   "pygments_lexer": "ipython3",
   "version": "3.7.3"
  }
 },
 "nbformat": 4,
 "nbformat_minor": 2
}
